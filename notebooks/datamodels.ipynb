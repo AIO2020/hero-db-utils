{
 "cells": [
  {
   "cell_type": "markdown",
   "metadata": {},
   "source": [
    "# Datamodels module examples"
   ]
  },
  {
   "cell_type": "code",
   "execution_count": 1,
   "metadata": {},
   "outputs": [
    {
     "data": {
      "text/plain": [
       "True"
      ]
     },
     "execution_count": 1,
     "metadata": {},
     "output_type": "execute_result"
    }
   ],
   "source": [
    "from hero_db_utils.datamodels import datamodel\n",
    "from hero_db_utils.datamodels.fields import ForeignKeyField, AutoSerialField\n",
    "import pandas as pd\n",
    "import dotenv\n",
    "dotenv.load_dotenv(override=True);\n",
    "\n",
    "@datamodel\n",
    "class Store:\n",
    "    address_id:ForeignKeyField(\"address\",\"address_id\")\n",
    "    last_update:pd.to_datetime\n",
    "    manager_staff_id:ForeignKeyField(\"staff\", \"staff_id\") = None\n",
    "    store_id:AutoSerialField() = None\n",
    "\n",
    "@datamodel\n",
    "class Address:\n",
    "    address:str\n",
    "    address2:str\n",
    "    district:str\n",
    "    city_id:ForeignKeyField(\"city\", \"city_id\")\n",
    "    postal_code:str\n",
    "    phone:str\n",
    "    last_update:pd.to_datetime\n",
    "    address_id:AutoSerialField() = None\n",
    "\n",
    "@datamodel\n",
    "class City:\n",
    "    city:str\n",
    "    country_id:ForeignKeyField(\"country\", \"country_id\")\n",
    "    last_update:str\n",
    "    city_id:AutoSerialField() = None\n",
    "\n",
    "@datamodel\n",
    "class Country:\n",
    "    country:str\n",
    "    last_update:pd.to_datetime\n",
    "    country_id:AutoSerialField() = None\n",
    "\n",
    "@datamodel\n",
    "class Staff:\n",
    "    first_name:str\n",
    "    last_name:str\n",
    "    address_id:ForeignKeyField(\"address\",\"address_id\")\n",
    "    email:str\n",
    "    store_id:ForeignKeyField(\"stores\", \"store_id\")\n",
    "    active:bool\n",
    "    username:str\n",
    "    password:str\n",
    "    last_update:pd.to_datetime\n",
    "    staff_id:AutoSerialField() = None\n"
   ]
  },
  {
   "cell_type": "code",
   "execution_count": 3,
   "metadata": {},
   "outputs": [
    {
     "name": "stdout",
     "output_type": "stream",
     "text": [
      "env: HERO_POSTGRES_DBNAME=dvd_rentals\n"
     ]
    }
   ],
   "source": [
    "%env HERO_POSTGRES_DBNAME=dvd_rentals"
   ]
  },
  {
   "cell_type": "markdown",
   "metadata": {},
   "source": [
    "Select all from a model in the database:"
   ]
  },
  {
   "cell_type": "code",
   "execution_count": 3,
   "metadata": {},
   "outputs": [
    {
     "data": {
      "text/html": [
       "<div>\n",
       "<style scoped>\n",
       "    .dataframe tbody tr th:only-of-type {\n",
       "        vertical-align: middle;\n",
       "    }\n",
       "\n",
       "    .dataframe tbody tr th {\n",
       "        vertical-align: top;\n",
       "    }\n",
       "\n",
       "    .dataframe thead th {\n",
       "        text-align: right;\n",
       "    }\n",
       "</style>\n",
       "<table border=\"1\" class=\"dataframe\">\n",
       "  <thead>\n",
       "    <tr style=\"text-align: right;\">\n",
       "      <th></th>\n",
       "      <th>store_id</th>\n",
       "      <th>manager_staff_id</th>\n",
       "      <th>address_id</th>\n",
       "      <th>last_update</th>\n",
       "    </tr>\n",
       "  </thead>\n",
       "  <tbody>\n",
       "    <tr>\n",
       "      <th>0</th>\n",
       "      <td>1</td>\n",
       "      <td>1</td>\n",
       "      <td>1</td>\n",
       "      <td>2022-03-13 20:17:25.832507</td>\n",
       "    </tr>\n",
       "    <tr>\n",
       "      <th>1</th>\n",
       "      <td>2</td>\n",
       "      <td>2</td>\n",
       "      <td>2</td>\n",
       "      <td>2022-03-15 21:31:54.117213</td>\n",
       "    </tr>\n",
       "  </tbody>\n",
       "</table>\n",
       "</div>"
      ],
      "text/plain": [
       "   store_id  manager_staff_id  address_id                last_update\n",
       "0         1                 1           1 2022-03-13 20:17:25.832507\n",
       "1         2                 2           2 2022-03-15 21:31:54.117213"
      ]
     },
     "execution_count": 3,
     "metadata": {},
     "output_type": "execute_result"
    }
   ],
   "source": [
    "Store.objects.all()"
   ]
  },
  {
   "cell_type": "markdown",
   "metadata": {},
   "source": [
    "Filter from the table:"
   ]
  },
  {
   "cell_type": "code",
   "execution_count": 4,
   "metadata": {},
   "outputs": [
    {
     "data": {
      "text/html": [
       "<div>\n",
       "<style scoped>\n",
       "    .dataframe tbody tr th:only-of-type {\n",
       "        vertical-align: middle;\n",
       "    }\n",
       "\n",
       "    .dataframe tbody tr th {\n",
       "        vertical-align: top;\n",
       "    }\n",
       "\n",
       "    .dataframe thead th {\n",
       "        text-align: right;\n",
       "    }\n",
       "</style>\n",
       "<table border=\"1\" class=\"dataframe\">\n",
       "  <thead>\n",
       "    <tr style=\"text-align: right;\">\n",
       "      <th></th>\n",
       "      <th>address_id</th>\n",
       "      <th>address</th>\n",
       "      <th>address2</th>\n",
       "      <th>district</th>\n",
       "      <th>city_id</th>\n",
       "      <th>postal_code</th>\n",
       "      <th>phone</th>\n",
       "      <th>last_update</th>\n",
       "    </tr>\n",
       "  </thead>\n",
       "  <tbody>\n",
       "    <tr>\n",
       "      <th>0</th>\n",
       "      <td>1</td>\n",
       "      <td>47 MySakila Drive</td>\n",
       "      <td>None</td>\n",
       "      <td>Alberta</td>\n",
       "      <td>300</td>\n",
       "      <td></td>\n",
       "      <td></td>\n",
       "      <td>2006-02-15 09:45:30</td>\n",
       "    </tr>\n",
       "    <tr>\n",
       "      <th>1</th>\n",
       "      <td>2</td>\n",
       "      <td>28 MySQL Boulevard</td>\n",
       "      <td>None</td>\n",
       "      <td>QLD</td>\n",
       "      <td>576</td>\n",
       "      <td></td>\n",
       "      <td></td>\n",
       "      <td>2006-02-15 09:45:30</td>\n",
       "    </tr>\n",
       "  </tbody>\n",
       "</table>\n",
       "</div>"
      ],
      "text/plain": [
       "   address_id             address address2 district  city_id postal_code  \\\n",
       "0           1   47 MySakila Drive     None  Alberta      300               \n",
       "1           2  28 MySQL Boulevard     None      QLD      576               \n",
       "\n",
       "  phone         last_update  \n",
       "0       2006-02-15 09:45:30  \n",
       "1       2006-02-15 09:45:30  "
      ]
     },
     "execution_count": 4,
     "metadata": {},
     "output_type": "execute_result"
    }
   ],
   "source": [
    "from hero_db_utils.queries.postgres import QueryOp\n",
    "\n",
    "Address.objects.filter(address_id=QueryOp.value_in([1,2]))"
   ]
  },
  {
   "cell_type": "markdown",
   "metadata": {},
   "source": [
    "Join on related table for column \"address_id\":"
   ]
  },
  {
   "cell_type": "code",
   "execution_count": 5,
   "metadata": {},
   "outputs": [
    {
     "data": {
      "text/html": [
       "<div>\n",
       "<style scoped>\n",
       "    .dataframe tbody tr th:only-of-type {\n",
       "        vertical-align: middle;\n",
       "    }\n",
       "\n",
       "    .dataframe tbody tr th {\n",
       "        vertical-align: top;\n",
       "    }\n",
       "\n",
       "    .dataframe thead th {\n",
       "        text-align: right;\n",
       "    }\n",
       "</style>\n",
       "<table border=\"1\" class=\"dataframe\">\n",
       "  <thead>\n",
       "    <tr style=\"text-align: right;\">\n",
       "      <th></th>\n",
       "      <th>store_id</th>\n",
       "      <th>manager_staff_id</th>\n",
       "      <th>address_id</th>\n",
       "      <th>last_update</th>\n",
       "      <th>address</th>\n",
       "      <th>address2</th>\n",
       "      <th>district</th>\n",
       "      <th>city_id</th>\n",
       "      <th>postal_code</th>\n",
       "      <th>phone</th>\n",
       "      <th>last_update</th>\n",
       "    </tr>\n",
       "  </thead>\n",
       "  <tbody>\n",
       "    <tr>\n",
       "      <th>0</th>\n",
       "      <td>1</td>\n",
       "      <td>1</td>\n",
       "      <td>1</td>\n",
       "      <td>2022-03-13 20:17:25.832507</td>\n",
       "      <td>47 MySakila Drive</td>\n",
       "      <td>None</td>\n",
       "      <td>Alberta</td>\n",
       "      <td>300</td>\n",
       "      <td></td>\n",
       "      <td></td>\n",
       "      <td>2006-02-15 09:45:30</td>\n",
       "    </tr>\n",
       "    <tr>\n",
       "      <th>1</th>\n",
       "      <td>2</td>\n",
       "      <td>2</td>\n",
       "      <td>2</td>\n",
       "      <td>2022-03-15 21:31:54.117213</td>\n",
       "      <td>28 MySQL Boulevard</td>\n",
       "      <td>None</td>\n",
       "      <td>QLD</td>\n",
       "      <td>576</td>\n",
       "      <td></td>\n",
       "      <td></td>\n",
       "      <td>2006-02-15 09:45:30</td>\n",
       "    </tr>\n",
       "  </tbody>\n",
       "</table>\n",
       "</div>"
      ],
      "text/plain": [
       "   store_id  manager_staff_id  address_id                last_update  \\\n",
       "0         1                 1           1 2022-03-13 20:17:25.832507   \n",
       "1         2                 2           2 2022-03-15 21:31:54.117213   \n",
       "\n",
       "              address address2 district  city_id postal_code phone  \\\n",
       "0   47 MySakila Drive     None  Alberta      300                     \n",
       "1  28 MySQL Boulevard     None      QLD      576                     \n",
       "\n",
       "          last_update  \n",
       "0 2006-02-15 09:45:30  \n",
       "1 2006-02-15 09:45:30  "
      ]
     },
     "execution_count": 5,
     "metadata": {},
     "output_type": "execute_result"
    }
   ],
   "source": [
    "Store.objects.fetch_related(\"address_id\")"
   ]
  },
  {
   "cell_type": "markdown",
   "metadata": {},
   "source": [
    "Retrieve an object from the database:"
   ]
  },
  {
   "cell_type": "code",
   "execution_count": 6,
   "metadata": {},
   "outputs": [
    {
     "data": {
      "text/plain": [
       "address_id                                   2\n",
       "last_update         2022-03-15 21:31:54.117213\n",
       "manager_staff_id                             2\n",
       "store_id                                     2\n",
       "dtype: object"
      ]
     },
     "execution_count": 6,
     "metadata": {},
     "output_type": "execute_result"
    }
   ],
   "source": [
    "store = Store.objects.get(store_id=2)\n",
    "store.data"
   ]
  },
  {
   "cell_type": "markdown",
   "metadata": {},
   "source": [
    "Update a model in the database:"
   ]
  },
  {
   "cell_type": "code",
   "execution_count": 19,
   "metadata": {},
   "outputs": [],
   "source": [
    "store.update(address_id=3)"
   ]
  },
  {
   "cell_type": "code",
   "execution_count": 20,
   "metadata": {},
   "outputs": [
    {
     "data": {
      "text/plain": [
       "3"
      ]
     },
     "execution_count": 20,
     "metadata": {},
     "output_type": "execute_result"
    }
   ],
   "source": [
    "store.address_id"
   ]
  },
  {
   "cell_type": "code",
   "execution_count": 21,
   "metadata": {},
   "outputs": [
    {
     "data": {
      "text/html": [
       "<div>\n",
       "<style scoped>\n",
       "    .dataframe tbody tr th:only-of-type {\n",
       "        vertical-align: middle;\n",
       "    }\n",
       "\n",
       "    .dataframe tbody tr th {\n",
       "        vertical-align: top;\n",
       "    }\n",
       "\n",
       "    .dataframe thead th {\n",
       "        text-align: right;\n",
       "    }\n",
       "</style>\n",
       "<table border=\"1\" class=\"dataframe\">\n",
       "  <thead>\n",
       "    <tr style=\"text-align: right;\">\n",
       "      <th></th>\n",
       "      <th>store_id</th>\n",
       "      <th>manager_staff_id</th>\n",
       "      <th>address_id</th>\n",
       "      <th>last_update</th>\n",
       "    </tr>\n",
       "  </thead>\n",
       "  <tbody>\n",
       "    <tr>\n",
       "      <th>0</th>\n",
       "      <td>1</td>\n",
       "      <td>1</td>\n",
       "      <td>1</td>\n",
       "      <td>2022-03-13 20:17:25.832507</td>\n",
       "    </tr>\n",
       "    <tr>\n",
       "      <th>1</th>\n",
       "      <td>2</td>\n",
       "      <td>2</td>\n",
       "      <td>3</td>\n",
       "      <td>2022-03-15 21:42:54.841072</td>\n",
       "    </tr>\n",
       "  </tbody>\n",
       "</table>\n",
       "</div>"
      ],
      "text/plain": [
       "   store_id  manager_staff_id  address_id                last_update\n",
       "0         1                 1           1 2022-03-13 20:17:25.832507\n",
       "1         2                 2           3 2022-03-15 21:42:54.841072"
      ]
     },
     "execution_count": 21,
     "metadata": {},
     "output_type": "execute_result"
    }
   ],
   "source": [
    "Store.objects.all()"
   ]
  },
  {
   "cell_type": "markdown",
   "metadata": {},
   "source": [
    "Create a new staff member:"
   ]
  },
  {
   "cell_type": "code",
   "execution_count": 10,
   "metadata": {},
   "outputs": [
    {
     "data": {
      "text/html": [
       "<div>\n",
       "<style scoped>\n",
       "    .dataframe tbody tr th:only-of-type {\n",
       "        vertical-align: middle;\n",
       "    }\n",
       "\n",
       "    .dataframe tbody tr th {\n",
       "        vertical-align: top;\n",
       "    }\n",
       "\n",
       "    .dataframe thead th {\n",
       "        text-align: right;\n",
       "    }\n",
       "</style>\n",
       "<table border=\"1\" class=\"dataframe\">\n",
       "  <thead>\n",
       "    <tr style=\"text-align: right;\">\n",
       "      <th></th>\n",
       "      <th>staff_id</th>\n",
       "      <th>first_name</th>\n",
       "      <th>last_name</th>\n",
       "      <th>address_id</th>\n",
       "      <th>email</th>\n",
       "      <th>store_id</th>\n",
       "      <th>active</th>\n",
       "      <th>username</th>\n",
       "      <th>password</th>\n",
       "      <th>last_update</th>\n",
       "      <th>picture</th>\n",
       "    </tr>\n",
       "  </thead>\n",
       "  <tbody>\n",
       "    <tr>\n",
       "      <th>0</th>\n",
       "      <td>1</td>\n",
       "      <td>Mike</td>\n",
       "      <td>Hillyer</td>\n",
       "      <td>3</td>\n",
       "      <td>Mike.Hillyer@sakilastaff.com</td>\n",
       "      <td>1</td>\n",
       "      <td>True</td>\n",
       "      <td>Mike</td>\n",
       "      <td>8cb2237d0679ca88db6464eac60da96345513964</td>\n",
       "      <td>2006-05-16 16:13:11.793280</td>\n",
       "      <td>[b'\\x89', b'P', b'N', b'G', b'\\r', b'\\n', b'Z'...</td>\n",
       "    </tr>\n",
       "    <tr>\n",
       "      <th>1</th>\n",
       "      <td>2</td>\n",
       "      <td>Jon</td>\n",
       "      <td>Stephens</td>\n",
       "      <td>4</td>\n",
       "      <td>Jon.Stephens@sakilastaff.com</td>\n",
       "      <td>2</td>\n",
       "      <td>True</td>\n",
       "      <td>Jon</td>\n",
       "      <td>8cb2237d0679ca88db6464eac60da96345513964</td>\n",
       "      <td>2006-05-16 16:13:11.793280</td>\n",
       "      <td>None</td>\n",
       "    </tr>\n",
       "  </tbody>\n",
       "</table>\n",
       "</div>"
      ],
      "text/plain": [
       "   staff_id first_name last_name  address_id                         email  \\\n",
       "0         1       Mike   Hillyer           3  Mike.Hillyer@sakilastaff.com   \n",
       "1         2        Jon  Stephens           4  Jon.Stephens@sakilastaff.com   \n",
       "\n",
       "   store_id  active username                                  password  \\\n",
       "0         1    True     Mike  8cb2237d0679ca88db6464eac60da96345513964   \n",
       "1         2    True      Jon  8cb2237d0679ca88db6464eac60da96345513964   \n",
       "\n",
       "                 last_update  \\\n",
       "0 2006-05-16 16:13:11.793280   \n",
       "1 2006-05-16 16:13:11.793280   \n",
       "\n",
       "                                             picture  \n",
       "0  [b'\\x89', b'P', b'N', b'G', b'\\r', b'\\n', b'Z'...  \n",
       "1                                               None  "
      ]
     },
     "execution_count": 10,
     "metadata": {},
     "output_type": "execute_result"
    }
   ],
   "source": [
    "Staff.objects.all()"
   ]
  },
  {
   "cell_type": "code",
   "execution_count": 15,
   "metadata": {},
   "outputs": [
    {
     "data": {
      "text/plain": [
       "first_name                          Harry\n",
       "last_name                          Potter\n",
       "address_id                              2\n",
       "email           Harry.Potter@hogwarts.com\n",
       "store_id                                1\n",
       "active                               True\n",
       "username                   theboywholived\n",
       "password                        alohomora\n",
       "last_update    2022-03-15 21:38:00.341756\n",
       "staff_id                             None\n",
       "dtype: object"
      ]
     },
     "execution_count": 15,
     "metadata": {},
     "output_type": "execute_result"
    }
   ],
   "source": [
    "new_staff = Staff(\n",
    "    first_name=\"Harry\",\n",
    "    last_name=\"Potter\",\n",
    "    active = True,\n",
    "    store_id=1,\n",
    "    address_id=2,\n",
    "    email=\"Harry.Potter@hogwarts.com\",\n",
    "    username=\"theboywholived\",\n",
    "    password=\"alohomora\",\n",
    "    last_update=\"now\"\n",
    ")\n",
    "new_staff.data"
   ]
  },
  {
   "cell_type": "code",
   "execution_count": 16,
   "metadata": {},
   "outputs": [],
   "source": [
    "# Insert staff in the database:\n",
    "new_staff.insert()"
   ]
  },
  {
   "cell_type": "code",
   "execution_count": 30,
   "metadata": {},
   "outputs": [
    {
     "data": {
      "text/html": [
       "<div>\n",
       "<style scoped>\n",
       "    .dataframe tbody tr th:only-of-type {\n",
       "        vertical-align: middle;\n",
       "    }\n",
       "\n",
       "    .dataframe tbody tr th {\n",
       "        vertical-align: top;\n",
       "    }\n",
       "\n",
       "    .dataframe thead th {\n",
       "        text-align: right;\n",
       "    }\n",
       "</style>\n",
       "<table border=\"1\" class=\"dataframe\">\n",
       "  <thead>\n",
       "    <tr style=\"text-align: right;\">\n",
       "      <th></th>\n",
       "      <th>staff_id</th>\n",
       "      <th>first_name</th>\n",
       "      <th>last_name</th>\n",
       "      <th>address_id</th>\n",
       "      <th>email</th>\n",
       "      <th>store_id</th>\n",
       "      <th>active</th>\n",
       "      <th>username</th>\n",
       "      <th>password</th>\n",
       "      <th>last_update</th>\n",
       "      <th>picture</th>\n",
       "    </tr>\n",
       "  </thead>\n",
       "  <tbody>\n",
       "    <tr>\n",
       "      <th>0</th>\n",
       "      <td>1</td>\n",
       "      <td>Mike</td>\n",
       "      <td>Hillyer</td>\n",
       "      <td>3</td>\n",
       "      <td>Mike.Hillyer@sakilastaff.com</td>\n",
       "      <td>1</td>\n",
       "      <td>True</td>\n",
       "      <td>Mike</td>\n",
       "      <td>8cb2237d0679ca88db6464eac60da96345513964</td>\n",
       "      <td>2006-05-16 16:13:11.793280</td>\n",
       "      <td>[b'\\x89', b'P', b'N', b'G', b'\\r', b'\\n', b'Z'...</td>\n",
       "    </tr>\n",
       "    <tr>\n",
       "      <th>1</th>\n",
       "      <td>2</td>\n",
       "      <td>Jon</td>\n",
       "      <td>Stephens</td>\n",
       "      <td>4</td>\n",
       "      <td>Jon.Stephens@sakilastaff.com</td>\n",
       "      <td>2</td>\n",
       "      <td>True</td>\n",
       "      <td>Jon</td>\n",
       "      <td>8cb2237d0679ca88db6464eac60da96345513964</td>\n",
       "      <td>2006-05-16 16:13:11.793280</td>\n",
       "      <td>None</td>\n",
       "    </tr>\n",
       "    <tr>\n",
       "      <th>2</th>\n",
       "      <td>3</td>\n",
       "      <td>Harry</td>\n",
       "      <td>Potter</td>\n",
       "      <td>2</td>\n",
       "      <td>Harry.Potter@hogwarts.com</td>\n",
       "      <td>1</td>\n",
       "      <td>True</td>\n",
       "      <td>theboywholived</td>\n",
       "      <td>alohomora</td>\n",
       "      <td>2022-03-15 21:38:00.341756</td>\n",
       "      <td>None</td>\n",
       "    </tr>\n",
       "  </tbody>\n",
       "</table>\n",
       "</div>"
      ],
      "text/plain": [
       "   staff_id first_name last_name  address_id                         email  \\\n",
       "0         1       Mike   Hillyer           3  Mike.Hillyer@sakilastaff.com   \n",
       "1         2        Jon  Stephens           4  Jon.Stephens@sakilastaff.com   \n",
       "2         3      Harry    Potter           2     Harry.Potter@hogwarts.com   \n",
       "\n",
       "   store_id  active        username                                  password  \\\n",
       "0         1    True            Mike  8cb2237d0679ca88db6464eac60da96345513964   \n",
       "1         2    True             Jon  8cb2237d0679ca88db6464eac60da96345513964   \n",
       "2         1    True  theboywholived                                 alohomora   \n",
       "\n",
       "                 last_update  \\\n",
       "0 2006-05-16 16:13:11.793280   \n",
       "1 2006-05-16 16:13:11.793280   \n",
       "2 2022-03-15 21:38:00.341756   \n",
       "\n",
       "                                             picture  \n",
       "0  [b'\\x89', b'P', b'N', b'G', b'\\r', b'\\n', b'Z'...  \n",
       "1                                               None  \n",
       "2                                               None  "
      ]
     },
     "execution_count": 30,
     "metadata": {},
     "output_type": "execute_result"
    }
   ],
   "source": [
    "# Check it exists in the database:\n",
    "Staff.objects.all()"
   ]
  }
 ],
 "metadata": {
  "interpreter": {
   "hash": "84cb53e4b44c944abea989131596e18947c7070262d47ad734aa5ab8a4c61b94"
  },
  "kernelspec": {
   "display_name": "Python 3.8.12 ('hero_db_utils')",
   "language": "python",
   "name": "python3"
  },
  "language_info": {
   "codemirror_mode": {
    "name": "ipython",
    "version": 3
   },
   "file_extension": ".py",
   "mimetype": "text/x-python",
   "name": "python",
   "nbconvert_exporter": "python",
   "pygments_lexer": "ipython3",
   "version": "3.8.11"
  },
  "orig_nbformat": 4
 },
 "nbformat": 4,
 "nbformat_minor": 2
}
